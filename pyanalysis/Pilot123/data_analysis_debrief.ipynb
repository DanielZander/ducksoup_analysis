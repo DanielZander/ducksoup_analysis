{
 "cells": [
  {
   "cell_type": "code",
   "execution_count": 1,
   "metadata": {},
   "outputs": [],
   "source": [
    "import seaborn as sns\n",
    "import pandas as pd\n",
    "import numpy as np"
   ]
  },
  {
   "cell_type": "code",
   "execution_count": 2,
   "metadata": {},
   "outputs": [],
   "source": [
    "combined_data = pd.read_csv(\"clean_data/combined_data/combined_data_debrief.csv\")\n",
    "combined_data = combined_data.loc[combined_data[\"participant_code\"] != \"enjhdbed\"] #exclude us, i.e. player 4 in first pilot\n",
    "combined_data = combined_data.loc[combined_data[\"participant_code\"] != \"j89thiah\"] #exclude woman with baby in session 1, i.e. player 5 in first pilot.\n",
    "combined_data = combined_data.loc[combined_data[\"participant_code\"] != \"97ajc1w1\"] #exclude p4 in session Mklqs5l0, was inactive during entire thing except for round 1 (dropout)- \n"
   ]
  },
  {
   "cell_type": "code",
   "execution_count": 3,
   "metadata": {},
   "outputs": [],
   "source": [
    "\n",
    "#Create unique players\n",
    "combined_data[\"player\"] = combined_data[\"player\"].astype(str)\n",
    "combined_data[\"player\"] = combined_data[\"player\"] + combined_data[\"prolific_id\"]\n",
    "\n",
    "#combine session code with mastok session\n",
    "combined_data['mk_session'] = combined_data['mk_session'].replace('mk:Ultimatum_Game_Real:', 'mk_', regex=True)\n",
    "combined_data['mk_session'] = combined_data['mk_session'] + \"_\" + combined_data['session_code']"
   ]
  },
  {
   "cell_type": "code",
   "execution_count": 11,
   "metadata": {},
   "outputs": [
    {
     "data": {
      "text/plain": [
       "manipulation\n",
       "0.0     6.25\n",
       "1.0    34.80\n",
       "Name: detection_degree, dtype: float64"
      ]
     },
     "execution_count": 11,
     "metadata": {},
     "output_type": "execute_result"
    }
   ],
   "source": [
    "combined_data[\"manipulation\"].mean() #23.8 % detect manipulation. \n",
    "combined_data.groupby([\"manipulation\"])['detection_degree'].mean() #34.8 mean detection degree for in the category of people that noticed manip. "
   ]
  },
  {
   "cell_type": "code",
   "execution_count": 15,
   "metadata": {},
   "outputs": [
    {
     "data": {
      "text/plain": [
       "<Axes: xlabel='unique_interactions', ylabel='Count'>"
      ]
     },
     "execution_count": 15,
     "metadata": {},
     "output_type": "execute_result"
    },
    {
     "data": {
      "image/png": "[encoded data removed]",
      "text/plain": [
       "<Figure size 640x480 with 1 Axes>"
      ]
     },
     "metadata": {},
     "output_type": "display_data"
    }
   ],
   "source": [
    "combined_data[\"unique_interactions\"].mean() #9.95\n",
    "sns.histplot(x = \"unique_interactions\", data=combined_data, binwidth=.5)"
   ]
  },
  {
   "cell_type": "code",
   "execution_count": 4,
   "metadata": {},
   "outputs": [],
   "source": [
    "df_analysis = combined_data.groupby([\"mk_session\"])['unique_interactions'].mean().reset_index()"
   ]
  }
 ],
 "metadata": {
  "kernelspec": {
   "display_name": "stim39",
   "language": "python",
   "name": "python3"
  },
  "language_info": {
   "codemirror_mode": {
    "name": "ipython",
    "version": 3
   },
   "file_extension": ".py",
   "mimetype": "text/x-python",
   "name": "python",
   "nbconvert_exporter": "python",
   "pygments_lexer": "ipython3",
   "version": "3.9.19"
  }
 },
 "nbformat": 4,
 "nbformat_minor": 2
}

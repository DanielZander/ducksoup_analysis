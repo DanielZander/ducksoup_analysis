{
 "cells": [
  {
   "cell_type": "code",
   "execution_count": 13,
   "metadata": {},
   "outputs": [],
   "source": [
    "\n",
    "import glob\n",
    "import numpy as np\n",
    "from scipy.signal import butter, filtfilt\n",
    "from pydub import AudioSegment\n",
    "import scipy.io.wavfile as wav\n",
    "from tqdm import tqdm\n",
    "from pydub import AudioSegment\n"
   ]
  },
  {
   "cell_type": "code",
   "execution_count": 14,
   "metadata": {},
   "outputs": [],
   "source": [
    "# Note The threshold depends also on the input volume set on the computer\n",
    "def _get_voice_onset(signal, threshold = 200, fs=44100, min_time=100):\n",
    "    '''\n",
    "    signal : numpy.ndarray\n",
    "             signal in. Should be the envelope of the raw signal for accurate results\n",
    "    threshold : int\n",
    "                Amplitude threshold for voice onset.\n",
    "                (Threshold = 200 with NYUAD MEG mic at 75% input volume seems to work well)\n",
    "    fs : int\n",
    "         Sampling frequency\n",
    "    min_time : int (ms)\n",
    "             Time in ms after the threshold is crossed used to calculate\n",
    "              the median amplitude and decide if it was random burst of noise\n",
    "              or speech onset.\n",
    "    '''\n",
    "\n",
    "    n_above_thresh = int(fs/min_time) # convert time above threshold to number of samples.\n",
    "\n",
    "    indices_onset = np.where(signal >= threshold)[0] # All indices above threshold\n",
    "    # Next, find the first index that where the MEDIAN stays above threshold for the next 10ms\n",
    "    # Not using the MEAN because sensitive to a single extreme value\n",
    "    # Note 44.1 points per millesconds (for fs=44100)\n",
    "    # 10ms = 441 points\n",
    "    for i in indices_onset:\n",
    "        median_mintime = np.median(np.abs(signal[i:i+n_above_thresh])) # median value in the timewindow of length min_time\n",
    "        if median_mintime >= threshold:\n",
    "            idx_onset = i\n",
    "            onset_time = idx_onset / float(fs) * 1000.0\n",
    "\n",
    "            return idx_onset, onset_time\n",
    "    return np.nan, np.nan # if no point exceeds the threshold.\n",
    "                          # Return \"None\" instead of None in order to be able to append it to a list later on"
   ]
  },
  {
   "cell_type": "code",
   "execution_count": 15,
   "metadata": {},
   "outputs": [],
   "source": [
    "#--- Based on Jarne (2017) \"Simple empirical algorithm to obtain signal envelope in three steps\"\n",
    "def _get_envelope(signal, fs=44100, N=200, cutoff=2000):\n",
    "    '''\n",
    "    signal: input wav (numpy.ndarray)\n",
    "    fs: sampling frequency\n",
    "    N: number of samples per chunk (in part (2))\n",
    "    cutoff: LPF cutoff, the smaller the cuttoff the stronger the filter. (tweek this).\n",
    "    '''\n",
    "    # 1) Take the absolute value of the signal\n",
    "    abs_signal = abs(signal)\n",
    "    # 2) Seperate into samples of N, and get peak value of each sample.\n",
    "    chunked_signal = [abs_signal[i:i+N] for i in range(0, len(abs_signal), N)]\n",
    "    new_signal = []\n",
    "    for chunk in chunked_signal: #Then for each chunk, replace all values by max value\n",
    "        max_value = np.max(chunk)\n",
    "        new_chunk = [max_value for i in range(len(chunk))]\n",
    "        new_signal.append(new_chunk)\n",
    "    # new_signal = np.array(new_signal).flatten()\n",
    "    new_signal = np.array([item for sublist in new_signal for item in sublist]) # flatten list of lists\n",
    "    # 3) LPF the new_signal (the envelope, not the original signal)\n",
    "    def FilterSignal(signal_in, fs, cutoff):\n",
    "        B, A = butter(1, cutoff / (fs / 2.0), btype='low')\n",
    "        filtered_signal = filtfilt(B, A, signal_in, axis=0)\n",
    "        return filtered_signal\n",
    "    filteredSignal = FilterSignal(new_signal, fs, cutoff)\n",
    "\n",
    "    return filteredSignal"
   ]
  },
  {
   "cell_type": "code",
   "execution_count": 18,
   "metadata": {},
   "outputs": [
    {
     "name": "stdout",
     "output_type": "stream",
     "text": [
      "Speech onset detected at index 53994 which corresponds to 1124.88 ms.\n"
     ]
    }
   ],
   "source": [
    "def convert_ogg_to_wav(input_file, output_file):\n",
    "    # Load .ogg file\n",
    "    audio = AudioSegment.from_ogg(input_file)\n",
    "    \n",
    "    # Export as .wav file\n",
    "    audio.export(output_file, format=\"wav\")\n",
    "\n",
    "\n",
    "# Load the .ogg file\n",
    "input_file = 'C:/Users/DanielZander/Documents/DuckSoup/Development/pilot_ultimatumtest/audio_preproc/trimed/20-p4p6/i-e86c4940d859745f7abfd3f642401ab5-a-20240911-144740.854-s-mkpsyphysical_main1-n-20-p4p6-u-p6-c-1-audio-dry.ogg'\n",
    "output_file = 'C:/Users/DanielZander/Documents/DuckSoup/Development/pilot_ultimatumtest/audio_preproc/trimed/20-p4p6/i-e86c4940d859745f7abfd3f642401ab5-a-20240911-144740.854-s-mkpsyphysical_main1-n-20-p4p6-u-p6-c-1-audio-dry.wav'\n",
    "convert_ogg_to_wav(input_file, output_file)\n",
    "\n",
    "fs, signal = wav.read(output_file)\n",
    "\n",
    "filtered_signal = _get_envelope(signal, fs=fs)\n",
    "\n",
    "# Use the _get_voice_onset function to find the speech onset time\n",
    "idx_onset, onset_time = _get_voice_onset(filtered_signal, threshold=20000000, fs=fs, min_time=100)\n",
    "\n",
    "\n",
    "# Print the results\n",
    "if not np.isnan(onset_time):\n",
    "    print(f\"Speech onset detected at index {idx_onset} which corresponds to {onset_time:.2f} ms.\")\n",
    "else:\n",
    "    print(\"No speech onset detected.\")\n",
    "\n",
    "\n"
   ]
  }
 ],
 "metadata": {
  "kernelspec": {
   "display_name": "stim39",
   "language": "python",
   "name": "python3"
  },
  "language_info": {
   "codemirror_mode": {
    "name": "ipython",
    "version": 3
   },
   "file_extension": ".py",
   "mimetype": "text/x-python",
   "name": "python",
   "nbconvert_exporter": "python",
   "pygments_lexer": "ipython3",
   "version": "3.9.19"
  }
 },
 "nbformat": 4,
 "nbformat_minor": 2
}

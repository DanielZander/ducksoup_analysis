{
 "cells": [
  {
   "cell_type": "code",
   "execution_count": 2,
   "metadata": {},
   "outputs": [],
   "source": [
    "import pandas as pd\n",
    "import numpy as np\n",
    "\n",
    "df = pd.read_csv(\"../data/clean_psyphysical_main1.csv\")\n",
    "df[\"player_nb\"] = \"p\" + df[\"player\"].astype(str)"
   ]
  },
  {
   "cell_type": "code",
   "execution_count": null,
   "metadata": {},
   "outputs": [],
   "source": [
    "distance = dict()\n",
    "\n",
    "players = [\"p1\", \"p2\", \"p3\", \"p4\", \"p5\", \"p6\"]\n",
    "\n",
    "for player in players:\n",
    "    df_player     = df[df[\"player_nb\"] == player]\n",
    "    other_players = [p for p in players if p != player]\n",
    "\n",
    "    print(\"PLAYER\", player)\n",
    "\n",
    "    for other in other_players:\n",
    "        print(\"other player:\", other)\n",
    "\n",
    "        last_seen = 0\n",
    "        for index,row in df_player.iterrows():\n",
    "            if other in row[\"dyad\"]:\n",
    "                distance  = row[\"round_nb\"] - last_seen\n",
    "                last_seen = row[\"round_nb\"]\n",
    "                print(distance)\n",
    "            \n",
    "\n"
   ]
  }
 ],
 "metadata": {
  "kernelspec": {
   "display_name": "stim39",
   "language": "python",
   "name": "python3"
  },
  "language_info": {
   "codemirror_mode": {
    "name": "ipython",
    "version": 3
   },
   "file_extension": ".py",
   "mimetype": "text/x-python",
   "name": "python",
   "nbconvert_exporter": "python",
   "pygments_lexer": "ipython3",
   "version": "3.9.19"
  }
 },
 "nbformat": 4,
 "nbformat_minor": 2
}
